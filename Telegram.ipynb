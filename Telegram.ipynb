{
  "nbformat": 4,
  "nbformat_minor": 0,
  "metadata": {
    "colab": {
      "name": "Копия блокнота \"coub.ipynb\"",
      "provenance": [],
      "collapsed_sections": []
    },
    "kernelspec": {
      "name": "python3",
      "display_name": "Python 3"
    },
    "language_info": {
      "name": "python"
    }
  },
  "cells": [
    {
      "cell_type": "code",
      "metadata": {
        "id": "BQWkIHkV2EME",
        "colab": {
          "base_uri": "https://localhost:8080/"
        },
        "outputId": "0738a58b-1b29-423f-a813-144f1a4ff48a"
      },
      "source": [
        "!git clone https://github.com/ArchiveTeam/telegram-grab && cd telegram-grab && wget https://cdn.discordapp.com/attachments/853331570219286571/956564970718515250/wget-at_colab -O wget-at && chmod +x wget-at && apt-key adv --keyserver keyserver.ubuntu.com --recv-keys 648ACFD622F3D138 0E98404D386FA1D9 && echo deb http://deb.debian.org/debian buster-backports main contrib > /etc/apt/sources.list.d/backports.list && apt-get update && apt-get -t buster-backports install zstd libzstd-dev libzstd1 --no-install-recommends && python3 -m pip install setuptools wheel && python3 -m pip install --upgrade seesaw2 zstandard requests && apt-get install libgnutls28-dev lua5.1 liblua5.1-0 liblua5.1-0-dev lua-socket rsync"
      ],
      "execution_count": 1,
      "outputs": [
        {
          "output_type": "stream",
          "name": "stdout",
          "text": [
            "Cloning into 'telegram-grab'...\n",
            "remote: Enumerating objects: 42, done.\u001b[K\n",
            "remote: Counting objects: 100% (42/42), done.\u001b[K\n",
            "remote: Compressing objects: 100% (29/29), done.\u001b[K\n",
            "remote: Total 42 (delta 20), reused 32 (delta 10), pack-reused 0\u001b[K\n",
            "Unpacking objects: 100% (42/42), done.\n",
            "--2022-04-21 06:38:49--  https://cdn.discordapp.com/attachments/853331570219286571/956564970718515250/wget-at_colab\n",
            "Resolving cdn.discordapp.com (cdn.discordapp.com)... 162.159.135.233, 162.159.130.233, 162.159.129.233, ...\n",
            "Connecting to cdn.discordapp.com (cdn.discordapp.com)|162.159.135.233|:443... connected.\n",
            "HTTP request sent, awaiting response... 200 OK\n",
            "Length: 2158848 (2.1M) [application/octet-stream]\n",
            "Saving to: ‘wget-at’\n",
            "\n",
            "wget-at             100%[===================>]   2.06M  --.-KB/s    in 0.01s   \n",
            "\n",
            "2022-04-21 06:38:49 (149 MB/s) - ‘wget-at’ saved [2158848/2158848]\n",
            "\n",
            "Executing: /tmp/apt-key-gpghome.fQCQ4LotHB/gpg.1.sh --keyserver keyserver.ubuntu.com --recv-keys 648ACFD622F3D138 0E98404D386FA1D9\n",
            "gpg: key 73A4F27B8DD47936: 5 signatures not checked due to missing keys\n",
            "gpg: key 73A4F27B8DD47936: \"Debian Archive Automatic Signing Key (11/bullseye) <ftpmaster@debian.org>\" not changed\n",
            "gpg: key DC30D7C23CBBABEE: 6 signatures not checked due to missing keys\n",
            "gpg: key DC30D7C23CBBABEE: \"Debian Archive Automatic Signing Key (10/buster) <ftpmaster@debian.org>\" not changed\n",
            "gpg: Total number processed: 2\n",
            "gpg:              unchanged: 2\n",
            "Hit:1 http://deb.debian.org/debian buster-backports InRelease\n",
            "Hit:2 http://security.ubuntu.com/ubuntu bionic-security InRelease\n",
            "Hit:3 http://archive.ubuntu.com/ubuntu bionic InRelease\n",
            "Hit:4 http://archive.ubuntu.com/ubuntu bionic-updates InRelease\n",
            "Hit:5 https://cloud.r-project.org/bin/linux/ubuntu bionic-cran40/ InRelease\n",
            "Hit:6 http://archive.ubuntu.com/ubuntu bionic-backports InRelease\n",
            "Ign:7 https://developer.download.nvidia.com/compute/cuda/repos/ubuntu1804/x86_64  InRelease\n",
            "Get:8 http://ppa.launchpad.net/c2d4u.team/c2d4u4.0+/ubuntu bionic InRelease [15.9 kB]\n",
            "Ign:9 https://developer.download.nvidia.com/compute/machine-learning/repos/ubuntu1804/x86_64  InRelease\n",
            "Hit:10 https://developer.download.nvidia.com/compute/cuda/repos/ubuntu1804/x86_64  Release\n",
            "Hit:11 https://developer.download.nvidia.com/compute/machine-learning/repos/ubuntu1804/x86_64  Release\n",
            "Hit:12 http://ppa.launchpad.net/cran/libgit2/ubuntu bionic InRelease\n",
            "Hit:13 http://ppa.launchpad.net/deadsnakes/ppa/ubuntu bionic InRelease\n",
            "Hit:14 http://ppa.launchpad.net/graphics-drivers/ppa/ubuntu bionic InRelease\n",
            "Get:15 http://ppa.launchpad.net/c2d4u.team/c2d4u4.0+/ubuntu bionic/main Sources [1,950 kB]\n",
            "Fetched 1,966 kB in 3s (780 kB/s)\n",
            "Reading package lists... Done\n",
            "Reading package lists... Done\n",
            "Building dependency tree       \n",
            "Reading state information... Done\n",
            "libzstd-dev is already the newest version (1.4.4+dfsg-3~bpo10+1).\n",
            "libzstd1 is already the newest version (1.4.4+dfsg-3~bpo10+1).\n",
            "zstd is already the newest version (1.4.4+dfsg-3~bpo10+1).\n",
            "0 upgraded, 0 newly installed, 0 to remove and 121 not upgraded.\n",
            "Requirement already satisfied: setuptools in /usr/local/lib/python3.7/dist-packages (57.4.0)\n",
            "Requirement already satisfied: wheel in /usr/local/lib/python3.7/dist-packages (0.37.1)\n",
            "Requirement already satisfied: seesaw2 in /usr/local/lib/python3.7/dist-packages (0.10.3)\n",
            "Requirement already satisfied: zstandard in /usr/local/lib/python3.7/dist-packages (0.17.0)\n",
            "Requirement already satisfied: requests in /usr/local/lib/python3.7/dist-packages (2.27.1)\n",
            "Requirement already satisfied: sockjs-tornado in /usr/local/lib/python3.7/dist-packages (from seesaw2) (1.0.7)\n",
            "Requirement already satisfied: Tornado<5.99999.99999,>=4 in /usr/local/lib/python3.7/dist-packages (from seesaw2) (5.1.1)\n",
            "Requirement already satisfied: urllib3<1.27,>=1.21.1 in /usr/local/lib/python3.7/dist-packages (from requests) (1.24.3)\n",
            "Requirement already satisfied: charset-normalizer~=2.0.0 in /usr/local/lib/python3.7/dist-packages (from requests) (2.0.12)\n",
            "Requirement already satisfied: certifi>=2017.4.17 in /usr/local/lib/python3.7/dist-packages (from requests) (2021.10.8)\n",
            "Requirement already satisfied: idna<4,>=2.5 in /usr/local/lib/python3.7/dist-packages (from requests) (2.10)\n",
            "Reading package lists... Done\n",
            "Building dependency tree       \n",
            "Reading state information... Done\n",
            "liblua5.1-0 is already the newest version (5.1.5-8.1build2).\n",
            "liblua5.1-0-dev is already the newest version (5.1.5-8.1build2).\n",
            "lua-socket is already the newest version (3.0~rc1+git+ac3201d-4).\n",
            "lua5.1 is already the newest version (5.1.5-8.1build2).\n",
            "libgnutls28-dev is already the newest version (3.5.18-1ubuntu1.5).\n",
            "rsync is already the newest version (3.1.2-2.1ubuntu1.4).\n",
            "0 upgraded, 0 newly installed, 0 to remove and 45 not upgraded.\n"
          ]
        }
      ]
    },
    {
      "cell_type": "code",
      "source": [
        "%cd telegram-grab"
      ],
      "metadata": {
        "id": "VHIel_BIk6_m",
        "colab": {
          "base_uri": "https://localhost:8080/"
        },
        "outputId": "4b81d280-eafc-4c9b-fa03-8cf227e2dc36"
      },
      "execution_count": 2,
      "outputs": [
        {
          "output_type": "stream",
          "name": "stdout",
          "text": [
            "/content/telegram-grab\n"
          ]
        }
      ]
    },
    {
      "cell_type": "code",
      "metadata": {
        "id": "qCA06w6r6lLz"
      },
      "source": [
        "!run-pipeline3 pipeline.py --concurrent 250 blvxrd --disable-web-server > /dev/null"
      ],
      "execution_count": null,
      "outputs": []
    }
  ]
}